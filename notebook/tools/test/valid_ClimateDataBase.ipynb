{
 "cells": [
  {
   "cell_type": "markdown",
   "metadata": {
    "slideshow": {
     "slide_type": "slide"
    }
   },
   "source": [
    "<h1><center> Validation du climat </center></h1>\n",
    "<center>\n",
    "    Olivier Pannekoucke <br> 2018-2019\n",
    "</center>"
   ]
  },
  {
   "cell_type": "markdown",
   "metadata": {
    "slideshow": {
     "slide_type": "subslide"
    }
   },
   "source": [
    "<center> <b>Objectifs</b> </center>\n",
    "\n",
    " * Rappel "
   ]
  },
  {
   "cell_type": "markdown",
   "metadata": {
    "slideshow": {
     "slide_type": "notes"
    }
   },
   "source": [
    "<div class=\"math abstract\">\n",
    "    <p style=\"text-align:center\"><b>Résumé</b></p>\n",
    "    <p>\n",
    "    Un rappel des notions sur \n",
    "        <br>\n",
    "    Ensuite,\n",
    "        <br>\n",
    "    Le cours finit </p>\n",
    "</div>"
   ]
  },
  {
   "cell_type": "markdown",
   "metadata": {
    "slideshow": {
     "slide_type": "fragment"
    }
   },
   "source": [
    "---\n",
    "<center> <b>Table of contents</b> </center>\n",
    "\n",
    " 1. [Introduction](#introduction)\n",
    "\n",
    "---"
   ]
  },
  {
   "cell_type": "code",
   "execution_count": 1,
   "metadata": {
    "ExecuteTime": {
     "end_time": "2018-12-03T14:44:59.567444Z",
     "start_time": "2018-12-03T14:44:59.549087Z"
    },
    "slideshow": {
     "slide_type": "notes"
    }
   },
   "outputs": [
    {
     "data": {
      "text/markdown": [
       "$\\newcommand{\\pde}{\\partial}\n",
       "\\newcommand{\\pdt}{\\partial_t}\n",
       "\\newcommand{\\pdx}{\\partial_x}\n",
       "\\newcommand{\\Hr}{\\mathcal H}\n",
       "\\newcommand{\\Or}{\\mathcal O}\n",
       "\\newcommand{\\Fr}{\\mathcal F}\n",
       "\\newcommand{\\Gr}{\\mathcal G}\n",
       "\\newcommand{\\Cr}{\\mathcal C}\n",
       "\\newcommand{\\Ir}{\\mathcal I}\n",
       "\\newcommand{\\Mr}{\\mathcal M}\n",
       "\\newcommand{\\Nr}{\\mathcal N}\n",
       "\\newcommand{\\Lr}{\\mathcal L}\n",
       "\\newcommand{\\Er}{\\mathcal E}\n",
       "\\newcommand{\\Ar}{\\mathcal A}\n",
       "\\newcommand{\\Br}{\\mathcal B}\n",
       "\\newcommand{\\Dr}{\\mathcal D}\n",
       "\\newcommand{\\Vr}{\\mathcal{V}}\n",
       "\\newcommand{\\R}{\\mathbb{ R}}\n",
       "\\newcommand{\\P}{\\mathbb{ P}}\n",
       "\\newcommand{\\N}{\\mathbb{ N}}\n",
       "\\newcommand{\\E}{\\mathbb{ E}}\n",
       "\\newcommand{\\eps}{\\varepsilon}\n",
       "\\newcommand{\\set}[1]{{\\{#1\\}}}\n",
       "\\newcommand{\\ArgMin}[1]{\\underset{#1}{ArgMin}}\n",
       "\\newcommand{\\ArgMax}[1]{\\underset{#1}{ArgMax}}\n",
       "\\newcommand{\\Sup}[1]{\\underset{#1}{Sup}}\n",
       "\\newcommand{\\Inf}[1]{\\underset{#1}{Inf}}\n",
       "$"
      ],
      "text/plain": [
       "<IPython.core.display.Markdown object>"
      ]
     },
     "execution_count": 1,
     "metadata": {},
     "output_type": "execute_result"
    }
   ],
   "source": [
    "from IPython.display import Markdown\n",
    "with open('css/latex.tex','r') as latex_file:\n",
    "    latex_style = \"$\"+latex_file.read()+\"$\"\n",
    "Markdown(latex_style)"
   ]
  },
  {
   "cell_type": "code",
   "execution_count": 2,
   "metadata": {
    "ExecuteTime": {
     "end_time": "2018-11-29T13:49:35.003934Z",
     "start_time": "2018-11-29T13:49:34.831778Z"
    },
    "slideshow": {
     "slide_type": "skip"
    }
   },
   "outputs": [],
   "source": [
    "import numpy as np\n",
    "import matplotlib.pyplot as plt\n",
    "#%matplotlib inline\n",
    "#%matplotlib notebook"
   ]
  },
  {
   "cell_type": "code",
   "execution_count": 3,
   "metadata": {},
   "outputs": [],
   "source": [
    "import datetime"
   ]
  },
  {
   "cell_type": "code",
   "execution_count": 4,
   "metadata": {},
   "outputs": [
    {
     "name": "stdout",
     "output_type": "stream",
     "text": [
      "2019-05-09 16:57:32.486455\n"
     ]
    }
   ],
   "source": [
    "print(datetime.datetime.now())"
   ]
  },
  {
   "cell_type": "markdown",
   "metadata": {},
   "source": [
    "## Introduction <a id='introduction'/>"
   ]
  },
  {
   "cell_type": "code",
   "execution_count": 29,
   "metadata": {},
   "outputs": [],
   "source": [
    "from numpy.linalg import norm\n",
    "from pydap.data.climate_db import ClimateDataBase\n",
    "from pydap.util.stats import compute_mean, compute_std"
   ]
  },
  {
   "cell_type": "markdown",
   "metadata": {},
   "source": [
    "## Cas d'une base de donnée homogène (centrée et normée)"
   ]
  },
  {
   "cell_type": "code",
   "execution_count": 23,
   "metadata": {},
   "outputs": [],
   "source": [
    "data = np.random.normal(size=(300,32,64))\n",
    "db = ClimateDataBase(data)"
   ]
  },
  {
   "cell_type": "markdown",
   "metadata": {},
   "source": [
    "### Validation que la moyenne"
   ]
  },
  {
   "cell_type": "code",
   "execution_count": 25,
   "metadata": {},
   "outputs": [
    {
     "name": "stdout",
     "output_type": "stream",
     "text": [
      "9.223609672319318 6.552119958433183\n",
      "9.223609672319318 6.552119958433183\n",
      "0.0 0.0\n"
     ]
    }
   ],
   "source": [
    "data_MEAN = data.mean(axis=0)\n",
    "data_STD = data.std(axis=0)\n",
    "print(norm(data_MEAN), norm(data_STD-1))\n",
    "print(norm(db.MEAN), norm(db.STD-1))\n",
    "\n",
    "print(norm(data_MEAN - db.MEAN), norm(data_STD-db.STD))"
   ]
  },
  {
   "cell_type": "markdown",
   "metadata": {},
   "source": [
    "### Validation que la normalisation est effective"
   ]
  },
  {
   "cell_type": "code",
   "execution_count": 27,
   "metadata": {},
   "outputs": [],
   "source": [
    "normalized_data = (db(k) for k in range(db.ntimes))\n",
    "mean = compute_mean(normalized_data)\n",
    "normalized_data = (db(k) for k in range(db.ntimes))\n",
    "std = compute_std(normalized_data, mean)"
   ]
  },
  {
   "cell_type": "code",
   "execution_count": 28,
   "metadata": {},
   "outputs": [
    {
     "data": {
      "text/plain": [
       "(1.4658594221199237e-14, 2.8559649503989225e-13)"
      ]
     },
     "execution_count": 28,
     "metadata": {},
     "output_type": "execute_result"
    }
   ],
   "source": [
    "norm(mean), norm(std-1)"
   ]
  },
  {
   "cell_type": "markdown",
   "metadata": {},
   "source": [
    "<div class='math conclusion'>\n",
    "Les calculs sont validés dans le cas homogène\n",
    "<div>    "
   ]
  },
  {
   "cell_type": "markdown",
   "metadata": {},
   "source": [
    "## Cas d'une base de donnée hétérogène (non centrée et non normée)"
   ]
  },
  {
   "cell_type": "code",
   "execution_count": 39,
   "metadata": {},
   "outputs": [],
   "source": [
    "data = np.random.normal(size=(2,300,32,64,30))\n",
    "data[0] = 1+data[0]*1\n",
    "data[1] = 1168168435138468441+data[1]*14843513578761351387684611554\n",
    "data = np.moveaxis(data,0,-1)"
   ]
  },
  {
   "cell_type": "code",
   "execution_count": 40,
   "metadata": {},
   "outputs": [
    {
     "data": {
      "text/plain": [
       "(300, 32, 64, 30, 2)"
      ]
     },
     "execution_count": 40,
     "metadata": {},
     "output_type": "execute_result"
    }
   ],
   "source": [
    "data.shape"
   ]
  },
  {
   "cell_type": "code",
   "execution_count": 42,
   "metadata": {},
   "outputs": [
    {
     "data": {
      "text/plain": [
       "(350.49352718349814, 3.6852593998717896e+30)"
      ]
     },
     "execution_count": 42,
     "metadata": {},
     "output_type": "execute_result"
    }
   ],
   "source": [
    "norm(data[0][:,:,:,0]), norm(data[0][:,:,:,1])"
   ]
  },
  {
   "cell_type": "code",
   "execution_count": 43,
   "metadata": {},
   "outputs": [
    {
     "name": "stdout",
     "output_type": "stream",
     "text": [
      "Compute the climate for indexed state (0, 300)\n",
      "Start computation of the means\n",
      "Start computation of the std\n"
     ]
    }
   ],
   "source": [
    "db = ClimateDataBase(data)"
   ]
  },
  {
   "cell_type": "markdown",
   "metadata": {},
   "source": [
    "### Validation que la moyenne"
   ]
  },
  {
   "cell_type": "code",
   "execution_count": 44,
   "metadata": {},
   "outputs": [
    {
     "name": "stdout",
     "output_type": "stream",
     "text": [
      "2.1210659645974402e+29 3.672491778443234e+30\n",
      "2.1210659645974402e+29 3.672491778443234e+30\n",
      "0.0 0.0\n"
     ]
    }
   ],
   "source": [
    "data_MEAN = data.mean(axis=0)\n",
    "data_STD = data.std(axis=0)\n",
    "print(norm(data_MEAN), norm(data_STD-1))\n",
    "print(norm(db.MEAN), norm(db.STD-1))\n",
    "\n",
    "print(norm(data_MEAN - db.MEAN), norm(data_STD-db.STD))"
   ]
  },
  {
   "cell_type": "markdown",
   "metadata": {},
   "source": [
    "### Validation que la normalisation est effective"
   ]
  },
  {
   "cell_type": "code",
   "execution_count": 45,
   "metadata": {},
   "outputs": [],
   "source": [
    "normalized_data = (db(k) for k in range(db.ntimes))\n",
    "mean = compute_mean(normalized_data)\n",
    "normalized_data = (db(k) for k in range(db.ntimes))\n",
    "std = compute_std(normalized_data, mean)"
   ]
  },
  {
   "cell_type": "code",
   "execution_count": 46,
   "metadata": {},
   "outputs": [
    {
     "data": {
      "text/plain": [
       "(1.2327211318433514e-13, 1.413507074209567e-13)"
      ]
     },
     "execution_count": 46,
     "metadata": {},
     "output_type": "execute_result"
    }
   ],
   "source": [
    "norm(mean), norm(std-1)"
   ]
  },
  {
   "cell_type": "markdown",
   "metadata": {},
   "source": [
    "<div class='math conclusion'>\n",
    "Les calculs sont validés dans le cas hétérogène\n",
    "<div>    "
   ]
  },
  {
   "cell_type": "code",
   "execution_count": null,
   "metadata": {},
   "outputs": [],
   "source": []
  }
 ],
 "metadata": {
  "kernelspec": {
   "display_name": "Python 3",
   "language": "python",
   "name": "python3"
  },
  "language_info": {
   "codemirror_mode": {
    "name": "ipython",
    "version": 3
   },
   "file_extension": ".py",
   "mimetype": "text/x-python",
   "name": "python",
   "nbconvert_exporter": "python",
   "pygments_lexer": "ipython3",
   "version": "3.7.0"
  },
  "toc": {
   "nav_menu": {
    "height": "244px",
    "width": "212px"
   },
   "number_sections": true,
   "sideBar": true,
   "skip_h1_title": true,
   "toc_cell": false,
   "toc_position": {},
   "toc_section_display": "block",
   "toc_window_display": false
  }
 },
 "nbformat": 4,
 "nbformat_minor": 2
}
